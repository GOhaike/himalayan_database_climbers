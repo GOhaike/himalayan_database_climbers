{
 "cells": [
  {
   "cell_type": "code",
   "execution_count": null,
   "metadata": {},
   "outputs": [],
   "source": []
  },
  {
   "cell_type": "markdown",
   "metadata": {},
   "source": [
    "### Introduction"
   ]
  },
  {
   "cell_type": "markdown",
   "metadata": {},
   "source": [
    "In mountaineering, the death zone refers to altitudes above 8,000 m (26,000 ft) where there is insufficient amount of oxygen to sustain human lives. There are a total of 14 mountains in the eight-thousanders located in the Himalaya and Karakoram mountain ranges. Climbers from all over the world are drawn to the beauty of eight-thousanders and venture into the death zone in attempts to summit the peaks each year. While many succeed and celebrate the triumph on the top of the world, some unfortunately never return and many more are injured."
   ]
  },
  {
   "cell_type": "markdown",
   "metadata": {},
   "source": [
    "### Research Questions"
   ]
  },
  {
   "cell_type": "markdown",
   "metadata": {},
   "source": [
    "There are many research areas in Himalayan Database, however here, my research focuses on these \"daredevils\" who are willing to risk their lives in order to summit the death zone-the eight thousander.\n",
    "\n",
    "- This brings us to ask. Who are those willing to risk their lives venturing into the death zone?\n",
    " - Where do they come from?\n",
    " - Do they just climb mountains for a living or are they part of the workforce?"
   ]
  },
  {
   "cell_type": "markdown",
   "metadata": {},
   "source": [
    "### Dataset"
   ]
  },
  {
   "cell_type": "markdown",
   "metadata": {},
   "source": [
    "#### Data Sources\n",
    "The research is primarily based on the [Himalayan Database](https://www.himalayandatabase.com/downloads.html).\n",
    "\n",
    "- The Himalayan Database is a compilation of records for all expeditions that have climbed in the Nepal Himalaya. The database is based on the expedition archives of Elizabeth Hawley, a longtime journalist based in Kathmandu, and it is supplemented by information gathered from books, alpine journals, and correspondence with Himalayan climbers.\n",
    "\n",
    "- dataset-`members.csv`"
   ]
  },
  {
   "cell_type": "markdown",
   "metadata": {},
   "source": [
    "### Import all the libraries we need to "
   ]
  },
  {
   "cell_type": "code",
   "execution_count": 13,
   "metadata": {},
   "outputs": [],
   "source": [
    "import pandas as pd\n",
    "import numpy as np\n",
    "import matplotlib\n",
    "import matplotlib.pyplot as plt\n",
    "from matplotlib.collections import PolyCollection\n",
    "import seaborn as sns\n",
    "from pywaffle import Waffle\n",
    "import plotly.express as px\n",
    "\n",
    "from typing import List\n",
    "from collections import namedtuple\n",
    "from datetime import datetime\n",
    "import math\n",
    "import warnings\n",
    "\n",
    "%matplotlib inline\n",
    "warnings.filterwarnings(\"ignore\")\n",
    "\n",
    "pd.set_option(\"display.max_columns\", None)\n",
    "pd.set_option(\"display.max_rows\", 100)\n",
    "sns.set() \n",
    "\n",
    "\n",
    "#plot settings\n",
    "FIG = namedtuple(\"FIG\", ())\n",
    "FIG.FONT_SIZE = 12\n",
    "FIG.TITLE_FONT_SIZE = 15\n",
    "FIG.TITLE_LINESPACE = 0.9\n",
    "FIG.W = 15\n",
    "FIG.H = 5\n",
    "\n",
    "# https://python-graph-gallery.com/199-matplotlib-style-sheets/\n",
    "plt.style.use(u\"bmh\")"
   ]
  },
  {
   "cell_type": "markdown",
   "metadata": {},
   "source": [
    "### Read csv file from the directory and print the first 5 rows"
   ]
  },
  {
   "cell_type": "code",
   "execution_count": 4,
   "metadata": {},
   "outputs": [
    {
     "data": {
      "text/html": [
       "<div>\n",
       "<style scoped>\n",
       "    .dataframe tbody tr th:only-of-type {\n",
       "        vertical-align: middle;\n",
       "    }\n",
       "\n",
       "    .dataframe tbody tr th {\n",
       "        vertical-align: top;\n",
       "    }\n",
       "\n",
       "    .dataframe thead th {\n",
       "        text-align: right;\n",
       "    }\n",
       "</style>\n",
       "<table border=\"1\" class=\"dataframe\">\n",
       "  <thead>\n",
       "    <tr style=\"text-align: right;\">\n",
       "      <th></th>\n",
       "      <th>expid</th>\n",
       "      <th>membid</th>\n",
       "      <th>peakid</th>\n",
       "      <th>myear</th>\n",
       "      <th>mseason</th>\n",
       "      <th>fname</th>\n",
       "      <th>lname</th>\n",
       "      <th>sex</th>\n",
       "      <th>age</th>\n",
       "      <th>birthdate</th>\n",
       "      <th>yob</th>\n",
       "      <th>calcage</th>\n",
       "      <th>citizen</th>\n",
       "      <th>status</th>\n",
       "      <th>residence</th>\n",
       "      <th>occupation</th>\n",
       "      <th>leader</th>\n",
       "      <th>deputy</th>\n",
       "      <th>bconly</th>\n",
       "      <th>nottobc</th>\n",
       "      <th>support</th>\n",
       "      <th>disabled</th>\n",
       "      <th>hired</th>\n",
       "      <th>sherpa</th>\n",
       "      <th>tibetan</th>\n",
       "      <th>msuccess</th>\n",
       "      <th>mclaimed</th>\n",
       "      <th>mdisputed</th>\n",
       "      <th>msolo</th>\n",
       "      <th>mtraverse</th>\n",
       "      <th>mski</th>\n",
       "      <th>mparapente</th>\n",
       "      <th>mspeed</th>\n",
       "      <th>mhighpt</th>\n",
       "      <th>mperhighpt</th>\n",
       "      <th>msmtdate1</th>\n",
       "      <th>msmtdate2</th>\n",
       "      <th>msmtdate3</th>\n",
       "      <th>msmttime1</th>\n",
       "      <th>msmttime2</th>\n",
       "      <th>msmttime3</th>\n",
       "      <th>mroute1</th>\n",
       "      <th>mroute2</th>\n",
       "      <th>mroute3</th>\n",
       "      <th>mascent1</th>\n",
       "      <th>mascent2</th>\n",
       "      <th>mascent3</th>\n",
       "      <th>mo2used</th>\n",
       "      <th>mo2none</th>\n",
       "      <th>mo2climb</th>\n",
       "      <th>mo2descent</th>\n",
       "      <th>mo2sleep</th>\n",
       "      <th>mo2medical</th>\n",
       "      <th>mo2note</th>\n",
       "      <th>death</th>\n",
       "      <th>deathdate</th>\n",
       "      <th>deathtime</th>\n",
       "      <th>deathtype</th>\n",
       "      <th>deathhgtm</th>\n",
       "      <th>deathclass</th>\n",
       "      <th>msmtbid</th>\n",
       "      <th>msmtterm</th>\n",
       "      <th>hcn</th>\n",
       "      <th>mchksum</th>\n",
       "    </tr>\n",
       "  </thead>\n",
       "  <tbody>\n",
       "    <tr>\n",
       "      <th>0</th>\n",
       "      <td>AMAD78301</td>\n",
       "      <td>1</td>\n",
       "      <td>AMAD</td>\n",
       "      <td>1978</td>\n",
       "      <td>3</td>\n",
       "      <td>Jean Robert</td>\n",
       "      <td>Clemenson</td>\n",
       "      <td>M</td>\n",
       "      <td>0</td>\n",
       "      <td>-   -</td>\n",
       "      <td>1938.0</td>\n",
       "      <td>40</td>\n",
       "      <td>France</td>\n",
       "      <td>Leader</td>\n",
       "      <td>Argentiere, Haute-Savoie, France</td>\n",
       "      <td>Alpine guide</td>\n",
       "      <td>True</td>\n",
       "      <td>False</td>\n",
       "      <td>False</td>\n",
       "      <td>False</td>\n",
       "      <td>False</td>\n",
       "      <td>False</td>\n",
       "      <td>False</td>\n",
       "      <td>False</td>\n",
       "      <td>False</td>\n",
       "      <td>False</td>\n",
       "      <td>False</td>\n",
       "      <td>False</td>\n",
       "      <td>False</td>\n",
       "      <td>False</td>\n",
       "      <td>False</td>\n",
       "      <td>False</td>\n",
       "      <td>False</td>\n",
       "      <td>False</td>\n",
       "      <td>0</td>\n",
       "      <td>-   -</td>\n",
       "      <td>-   -</td>\n",
       "      <td>-   -</td>\n",
       "      <td>NaN</td>\n",
       "      <td>NaN</td>\n",
       "      <td>NaN</td>\n",
       "      <td>0</td>\n",
       "      <td>0</td>\n",
       "      <td>0</td>\n",
       "      <td>0</td>\n",
       "      <td>0</td>\n",
       "      <td>0</td>\n",
       "      <td>False</td>\n",
       "      <td>True</td>\n",
       "      <td>False</td>\n",
       "      <td>False</td>\n",
       "      <td>False</td>\n",
       "      <td>False</td>\n",
       "      <td>NaN</td>\n",
       "      <td>False</td>\n",
       "      <td>-   -</td>\n",
       "      <td>NaN</td>\n",
       "      <td>0</td>\n",
       "      <td>0</td>\n",
       "      <td>0</td>\n",
       "      <td>1</td>\n",
       "      <td>4</td>\n",
       "      <td>0</td>\n",
       "      <td>2426937</td>\n",
       "    </tr>\n",
       "    <tr>\n",
       "      <th>1</th>\n",
       "      <td>AMAD78301</td>\n",
       "      <td>2</td>\n",
       "      <td>AMAD</td>\n",
       "      <td>1978</td>\n",
       "      <td>3</td>\n",
       "      <td>Bernard</td>\n",
       "      <td>Dufour</td>\n",
       "      <td>M</td>\n",
       "      <td>0</td>\n",
       "      <td>-   -</td>\n",
       "      <td>1936.0</td>\n",
       "      <td>41</td>\n",
       "      <td>France</td>\n",
       "      <td>Deputy Leader</td>\n",
       "      <td>Les Houches, Haute-Savoie, France</td>\n",
       "      <td>Alpine guide</td>\n",
       "      <td>False</td>\n",
       "      <td>True</td>\n",
       "      <td>False</td>\n",
       "      <td>False</td>\n",
       "      <td>False</td>\n",
       "      <td>False</td>\n",
       "      <td>False</td>\n",
       "      <td>False</td>\n",
       "      <td>False</td>\n",
       "      <td>False</td>\n",
       "      <td>False</td>\n",
       "      <td>False</td>\n",
       "      <td>False</td>\n",
       "      <td>False</td>\n",
       "      <td>False</td>\n",
       "      <td>False</td>\n",
       "      <td>False</td>\n",
       "      <td>True</td>\n",
       "      <td>6000</td>\n",
       "      <td>10/21/78</td>\n",
       "      <td>-   -</td>\n",
       "      <td>-   -</td>\n",
       "      <td>NaN</td>\n",
       "      <td>NaN</td>\n",
       "      <td>NaN</td>\n",
       "      <td>1</td>\n",
       "      <td>0</td>\n",
       "      <td>0</td>\n",
       "      <td>0</td>\n",
       "      <td>0</td>\n",
       "      <td>0</td>\n",
       "      <td>False</td>\n",
       "      <td>True</td>\n",
       "      <td>False</td>\n",
       "      <td>False</td>\n",
       "      <td>False</td>\n",
       "      <td>False</td>\n",
       "      <td>NaN</td>\n",
       "      <td>False</td>\n",
       "      <td>-   -</td>\n",
       "      <td>NaN</td>\n",
       "      <td>0</td>\n",
       "      <td>0</td>\n",
       "      <td>0</td>\n",
       "      <td>1</td>\n",
       "      <td>4</td>\n",
       "      <td>0</td>\n",
       "      <td>2426501</td>\n",
       "    </tr>\n",
       "    <tr>\n",
       "      <th>2</th>\n",
       "      <td>AMAD78301</td>\n",
       "      <td>3</td>\n",
       "      <td>AMAD</td>\n",
       "      <td>1978</td>\n",
       "      <td>3</td>\n",
       "      <td>Philippe</td>\n",
       "      <td>Gerard</td>\n",
       "      <td>M</td>\n",
       "      <td>0</td>\n",
       "      <td>-   -</td>\n",
       "      <td>1950.0</td>\n",
       "      <td>27</td>\n",
       "      <td>France</td>\n",
       "      <td>Climber</td>\n",
       "      <td>Troyes, Val-de-Marne, France</td>\n",
       "      <td>Professional photographer</td>\n",
       "      <td>False</td>\n",
       "      <td>False</td>\n",
       "      <td>False</td>\n",
       "      <td>False</td>\n",
       "      <td>False</td>\n",
       "      <td>False</td>\n",
       "      <td>False</td>\n",
       "      <td>False</td>\n",
       "      <td>False</td>\n",
       "      <td>False</td>\n",
       "      <td>False</td>\n",
       "      <td>False</td>\n",
       "      <td>False</td>\n",
       "      <td>False</td>\n",
       "      <td>False</td>\n",
       "      <td>False</td>\n",
       "      <td>False</td>\n",
       "      <td>False</td>\n",
       "      <td>0</td>\n",
       "      <td>-   -</td>\n",
       "      <td>-   -</td>\n",
       "      <td>-   -</td>\n",
       "      <td>NaN</td>\n",
       "      <td>NaN</td>\n",
       "      <td>NaN</td>\n",
       "      <td>0</td>\n",
       "      <td>0</td>\n",
       "      <td>0</td>\n",
       "      <td>0</td>\n",
       "      <td>0</td>\n",
       "      <td>0</td>\n",
       "      <td>False</td>\n",
       "      <td>True</td>\n",
       "      <td>False</td>\n",
       "      <td>False</td>\n",
       "      <td>False</td>\n",
       "      <td>False</td>\n",
       "      <td>NaN</td>\n",
       "      <td>False</td>\n",
       "      <td>-   -</td>\n",
       "      <td>NaN</td>\n",
       "      <td>0</td>\n",
       "      <td>0</td>\n",
       "      <td>0</td>\n",
       "      <td>1</td>\n",
       "      <td>4</td>\n",
       "      <td>0</td>\n",
       "      <td>2431569</td>\n",
       "    </tr>\n",
       "    <tr>\n",
       "      <th>3</th>\n",
       "      <td>AMAD78301</td>\n",
       "      <td>4</td>\n",
       "      <td>AMAD</td>\n",
       "      <td>1978</td>\n",
       "      <td>3</td>\n",
       "      <td>Eric</td>\n",
       "      <td>Lasserre</td>\n",
       "      <td>M</td>\n",
       "      <td>0</td>\n",
       "      <td>-   -</td>\n",
       "      <td>1937.0</td>\n",
       "      <td>40</td>\n",
       "      <td>France</td>\n",
       "      <td>Exp Doctor</td>\n",
       "      <td>Chamonix, Haute-Savoie, France</td>\n",
       "      <td>Physician</td>\n",
       "      <td>False</td>\n",
       "      <td>False</td>\n",
       "      <td>False</td>\n",
       "      <td>False</td>\n",
       "      <td>False</td>\n",
       "      <td>False</td>\n",
       "      <td>False</td>\n",
       "      <td>False</td>\n",
       "      <td>False</td>\n",
       "      <td>False</td>\n",
       "      <td>False</td>\n",
       "      <td>False</td>\n",
       "      <td>False</td>\n",
       "      <td>False</td>\n",
       "      <td>False</td>\n",
       "      <td>False</td>\n",
       "      <td>False</td>\n",
       "      <td>True</td>\n",
       "      <td>6000</td>\n",
       "      <td>10/21/78</td>\n",
       "      <td>-   -</td>\n",
       "      <td>-   -</td>\n",
       "      <td>NaN</td>\n",
       "      <td>NaN</td>\n",
       "      <td>NaN</td>\n",
       "      <td>1</td>\n",
       "      <td>0</td>\n",
       "      <td>0</td>\n",
       "      <td>0</td>\n",
       "      <td>0</td>\n",
       "      <td>0</td>\n",
       "      <td>False</td>\n",
       "      <td>True</td>\n",
       "      <td>False</td>\n",
       "      <td>False</td>\n",
       "      <td>False</td>\n",
       "      <td>False</td>\n",
       "      <td>NaN</td>\n",
       "      <td>False</td>\n",
       "      <td>-   -</td>\n",
       "      <td>NaN</td>\n",
       "      <td>0</td>\n",
       "      <td>0</td>\n",
       "      <td>0</td>\n",
       "      <td>1</td>\n",
       "      <td>4</td>\n",
       "      <td>0</td>\n",
       "      <td>2426809</td>\n",
       "    </tr>\n",
       "    <tr>\n",
       "      <th>4</th>\n",
       "      <td>AMAD78301</td>\n",
       "      <td>5</td>\n",
       "      <td>AMAD</td>\n",
       "      <td>1978</td>\n",
       "      <td>3</td>\n",
       "      <td>Guy</td>\n",
       "      <td>Peters</td>\n",
       "      <td>M</td>\n",
       "      <td>0</td>\n",
       "      <td>-   -</td>\n",
       "      <td>1944.0</td>\n",
       "      <td>34</td>\n",
       "      <td>France</td>\n",
       "      <td>Climber</td>\n",
       "      <td>Les Houches, Haute-Savoie, France</td>\n",
       "      <td>Alpine guide</td>\n",
       "      <td>False</td>\n",
       "      <td>False</td>\n",
       "      <td>False</td>\n",
       "      <td>False</td>\n",
       "      <td>False</td>\n",
       "      <td>False</td>\n",
       "      <td>False</td>\n",
       "      <td>False</td>\n",
       "      <td>False</td>\n",
       "      <td>False</td>\n",
       "      <td>False</td>\n",
       "      <td>False</td>\n",
       "      <td>False</td>\n",
       "      <td>False</td>\n",
       "      <td>False</td>\n",
       "      <td>False</td>\n",
       "      <td>False</td>\n",
       "      <td>False</td>\n",
       "      <td>0</td>\n",
       "      <td>-   -</td>\n",
       "      <td>-   -</td>\n",
       "      <td>-   -</td>\n",
       "      <td>NaN</td>\n",
       "      <td>NaN</td>\n",
       "      <td>NaN</td>\n",
       "      <td>0</td>\n",
       "      <td>0</td>\n",
       "      <td>0</td>\n",
       "      <td>0</td>\n",
       "      <td>0</td>\n",
       "      <td>0</td>\n",
       "      <td>False</td>\n",
       "      <td>True</td>\n",
       "      <td>False</td>\n",
       "      <td>False</td>\n",
       "      <td>False</td>\n",
       "      <td>False</td>\n",
       "      <td>NaN</td>\n",
       "      <td>False</td>\n",
       "      <td>-   -</td>\n",
       "      <td>NaN</td>\n",
       "      <td>0</td>\n",
       "      <td>0</td>\n",
       "      <td>0</td>\n",
       "      <td>1</td>\n",
       "      <td>4</td>\n",
       "      <td>0</td>\n",
       "      <td>2429215</td>\n",
       "    </tr>\n",
       "  </tbody>\n",
       "</table>\n",
       "</div>"
      ],
      "text/plain": [
       "       expid  membid peakid  myear  mseason        fname      lname sex  age  \\\n",
       "0  AMAD78301       1   AMAD   1978        3  Jean Robert  Clemenson   M    0   \n",
       "1  AMAD78301       2   AMAD   1978        3      Bernard     Dufour   M    0   \n",
       "2  AMAD78301       3   AMAD   1978        3     Philippe     Gerard   M    0   \n",
       "3  AMAD78301       4   AMAD   1978        3         Eric   Lasserre   M    0   \n",
       "4  AMAD78301       5   AMAD   1978        3          Guy     Peters   M    0   \n",
       "\n",
       "  birthdate     yob  calcage citizen         status  \\\n",
       "0     -   -  1938.0       40  France         Leader   \n",
       "1     -   -  1936.0       41  France  Deputy Leader   \n",
       "2     -   -  1950.0       27  France        Climber   \n",
       "3     -   -  1937.0       40  France     Exp Doctor   \n",
       "4     -   -  1944.0       34  France        Climber   \n",
       "\n",
       "                           residence                 occupation  leader  \\\n",
       "0   Argentiere, Haute-Savoie, France               Alpine guide    True   \n",
       "1  Les Houches, Haute-Savoie, France               Alpine guide   False   \n",
       "2       Troyes, Val-de-Marne, France  Professional photographer   False   \n",
       "3     Chamonix, Haute-Savoie, France                  Physician   False   \n",
       "4  Les Houches, Haute-Savoie, France               Alpine guide   False   \n",
       "\n",
       "   deputy  bconly  nottobc  support  disabled  hired  sherpa  tibetan  \\\n",
       "0   False   False    False    False     False  False   False    False   \n",
       "1    True   False    False    False     False  False   False    False   \n",
       "2   False   False    False    False     False  False   False    False   \n",
       "3   False   False    False    False     False  False   False    False   \n",
       "4   False   False    False    False     False  False   False    False   \n",
       "\n",
       "   msuccess  mclaimed  mdisputed  msolo  mtraverse   mski  mparapente  mspeed  \\\n",
       "0     False     False      False  False      False  False       False   False   \n",
       "1     False     False      False  False      False  False       False   False   \n",
       "2     False     False      False  False      False  False       False   False   \n",
       "3     False     False      False  False      False  False       False   False   \n",
       "4     False     False      False  False      False  False       False   False   \n",
       "\n",
       "   mhighpt  mperhighpt msmtdate1 msmtdate2 msmtdate3  msmttime1  msmttime2  \\\n",
       "0    False           0     -   -     -   -     -   -        NaN        NaN   \n",
       "1     True        6000  10/21/78     -   -     -   -        NaN        NaN   \n",
       "2    False           0     -   -     -   -     -   -        NaN        NaN   \n",
       "3     True        6000  10/21/78     -   -     -   -        NaN        NaN   \n",
       "4    False           0     -   -     -   -     -   -        NaN        NaN   \n",
       "\n",
       "   msmttime3  mroute1  mroute2  mroute3  mascent1  mascent2  mascent3  \\\n",
       "0        NaN        0        0        0         0         0         0   \n",
       "1        NaN        1        0        0         0         0         0   \n",
       "2        NaN        0        0        0         0         0         0   \n",
       "3        NaN        1        0        0         0         0         0   \n",
       "4        NaN        0        0        0         0         0         0   \n",
       "\n",
       "   mo2used  mo2none  mo2climb  mo2descent  mo2sleep  mo2medical mo2note  \\\n",
       "0    False     True     False       False     False       False     NaN   \n",
       "1    False     True     False       False     False       False     NaN   \n",
       "2    False     True     False       False     False       False     NaN   \n",
       "3    False     True     False       False     False       False     NaN   \n",
       "4    False     True     False       False     False       False     NaN   \n",
       "\n",
       "   death deathdate  deathtime  deathtype  deathhgtm  deathclass  msmtbid  \\\n",
       "0  False     -   -        NaN          0          0           0        1   \n",
       "1  False     -   -        NaN          0          0           0        1   \n",
       "2  False     -   -        NaN          0          0           0        1   \n",
       "3  False     -   -        NaN          0          0           0        1   \n",
       "4  False     -   -        NaN          0          0           0        1   \n",
       "\n",
       "   msmtterm  hcn  mchksum  \n",
       "0         4    0  2426937  \n",
       "1         4    0  2426501  \n",
       "2         4    0  2431569  \n",
       "3         4    0  2426809  \n",
       "4         4    0  2429215  "
      ]
     },
     "execution_count": 4,
     "metadata": {},
     "output_type": "execute_result"
    }
   ],
   "source": [
    "mem_df = pd.read_csv(\"members.csv\")\n",
    "mem_df.head()"
   ]
  },
  {
   "cell_type": "markdown",
   "metadata": {},
   "source": [
    "#### Next, let's see the shape of our dataset which represents the number of rows and columns"
   ]
  },
  {
   "cell_type": "code",
   "execution_count": 12,
   "metadata": {},
   "outputs": [
    {
     "data": {
      "text/plain": [
       "(65534, 64)"
      ]
     },
     "execution_count": 12,
     "metadata": {},
     "output_type": "execute_result"
    }
   ],
   "source": [
    "mem_df.shape"
   ]
  },
  {
   "cell_type": "markdown",
   "metadata": {},
   "source": [
    "- After exploring the dataset, I have identified the key features needed to answer my research questions. Most of the data cleaning would take place on the fly. For example, dropping na values."
   ]
  },
  {
   "cell_type": "markdown",
   "metadata": {},
   "source": [
    "#### Let's see the popularity of eight-thousanders over time between the popular mount Everest vs all other eight-thousanders from(1905-2019)"
   ]
  },
  {
   "cell_type": "code",
   "execution_count": 16,
   "metadata": {},
   "outputs": [
    {
     "data": {
      "image/png": "[encoded data removed]",
      "text/plain": [
       "<Figure size 1080x360 with 1 Axes>"
      ]
     },
     "metadata": {},
     "output_type": "display_data"
    }
   ],
   "source": [
    "ever_df = mem_df.loc[(mem_df.peakid == \"EVER\"), [\"membid\", \"myear\"]]\n",
    "others_df = mem_df.loc[(mem_df.peakid != \"EVER\"), [\"membid\", \"myear\"]]\n",
    "ever_df = round(ever_df.groupby(\"myear\").count()).astype(\"int\")\n",
    "others_df = round(others_df.groupby(\"myear\").count()).astype(\"int\")\n",
    "\n",
    "\n",
    "fig, ax = plt.subplots(figsize=(FIG.W, FIG.H))\n",
    "fig.suptitle(\"Number of Climbers (1905-2019)\", \n",
    "             fontsize=FIG.TITLE_FONT_SIZE)\n",
    "fig.subplots_adjust(top=FIG.TITLE_LINESPACE)\n",
    "\n",
    "sns.lineplot(x=ever_df.index, y=\"membid\",ax=ax, data=ever_df, markers=True, dashes=False, color=\"blue\")\n",
    "sns.lineplot(x=others_df.index, y=\"membid\", ax=ax, data=others_df,markers=True, dashes=False, color=\"green\")\n",
    "ax.set_xlabel(\"year\", fontsize=FIG.FONT_SIZE)\n",
    "ax.set_ylabel(\"Number of Climbers\", fontsize=FIG.FONT_SIZE)\n",
    "\n",
    "blue_patch = matplotlib.patches.Patch(color=\"blue\", label=\"Mount Everest\")\n",
    "green_patch = matplotlib.patches.Patch(color=\"green\", label=\"All Other Eight-Thousanders\")\n",
    "ax.legend(handles=[blue_patch, green_patch], facecolor=\"white\", edgecolor=\"#cccccc\", framealpha=0.5, fancybox=True)\n",
    "\n",
    "pass"
   ]
  },
  {
   "cell_type": "markdown",
   "metadata": {},
   "source": [
    "#### Let's take a look at  the average age of these climbers over time "
   ]
  },
  {
   "cell_type": "code",
   "execution_count": 20,
   "metadata": {},
   "outputs": [
    {
     "data": {
      "image/png": "[encoded data removed]",
      "text/plain": [
       "<Figure size 1080x360 with 1 Axes>"
      ]
     },
     "metadata": {},
     "output_type": "display_data"
    }
   ],
   "source": [
    "ever_df = mem_df.loc[(mem_df.calcage > 0) & (mem_df.peakid == \"EVER\"), [\"calcage\", \"myear\"]]\n",
    "others_df = mem_df.loc[(mem_df.calcage > 0) & (mem_df.peakid != \"EVER\"), [\"calcage\", \"myear\"]]\n",
    "ever_df = round(ever_df.groupby(\"myear\").mean()).astype(\"int\")\n",
    "others_df = round(others_df.groupby(\"myear\").mean()).astype(\"int\")\n",
    "\n",
    "\n",
    "fig, ax = plt.subplots(figsize=(FIG.W, FIG.H))\n",
    "fig.suptitle(\"Age of Climbers (1905-2019)\", \n",
    "             fontsize=FIG.TITLE_FONT_SIZE)\n",
    "fig.subplots_adjust(top=FIG.TITLE_LINESPACE)\n",
    "\n",
    "sns.lineplot(x=ever_df.index, y=\"calcage\",\n",
    "             ax=ax, data=ever_df,\n",
    "             markers=True, dashes=False, color=\"blue\")\n",
    "sns.lineplot(x=others_df.index, y=\"calcage\",\n",
    "             ax=ax, data=others_df,\n",
    "             markers=True, dashes=False, color=\"green\")\n",
    "ax.set_xlabel(\"Year\", fontsize=FIG.FONT_SIZE)\n",
    "ax.set_ylabel(\"Avg. Age of Climbers\", fontsize=FIG.FONT_SIZE)\n",
    "\n",
    "blue_patch = matplotlib.patches.Patch(color=\"blue\", label=\"Mount Everest\")\n",
    "green_patch = matplotlib.patches.Patch(color=\"green\", label=\"All Other Eight-Thousanders\")\n",
    "ax.legend(handles=[blue_patch, green_patch], facecolor=\"white\", edgecolor=\"#cccccc\", framealpha=0.5, fancybox=True)\n",
    "\n",
    "pass"
   ]
  },
  {
   "cell_type": "markdown",
   "metadata": {},
   "source": [
    "### Using Plotly for an interactive map of Climbers nationality"
   ]
  },
  {
   "cell_type": "code",
   "execution_count": 23,
   "metadata": {},
   "outputs": [
    {
     "data": {
      "application/vnd.plotly.v1+json": {
       "config": {
        "plotlyServerURL": "https://plot.ly"
       },
       "data": [
        {
         "geo": "geo",
         "hovertemplate": "<b>%{hovertext}</b><br><br>count=%{marker.size}<br>country=%{location}<extra></extra>",
         "hovertext": [
          "Albania",
          "Algeria",
          "Andorra",
          "Argentina",
          "Armenia",
          "Australia",
          "Austria",
          "Azerbaijan",
          "Bahrain",
          "Bangladesh",
          "Belarus",
          "Belgium",
          "Bhutan",
          "Bolivia",
          "Bosnia-Herzegovina",
          "Brazil",
          "Bulgaria",
          "Canada",
          "Chile",
          "China",
          "Colombia",
          "Costa Rica",
          "Croatia",
          "Cyprus",
          "Czech Republic",
          "Czechoslovakia",
          "Denmark",
          "Dominican Republic",
          "Ecuador",
          "Egypt",
          "Estonia",
          "Finland",
          "France",
          "Georgia",
          "Germany",
          "Greece",
          "Guatemala",
          "Hong Kong",
          "Hungary",
          "Iceland",
          "India",
          "India?",
          "Indonesia",
          "Iran",
          "Ireland",
          "Israel",
          "Italy",
          "Jamaica",
          "Japan",
          "Jordan",
          "Kazakhstan",
          "Kenya",
          "Kuwait",
          "Kyrgyzstan",
          "Latvia",
          "Lebanon",
          "Liechtenstein",
          "Lithuania",
          "Luxembourg",
          "Macedonia",
          "Malaysia",
          "Malta",
          "Mauritius",
          "Mexico",
          "Moldova",
          "Mongolia",
          "Montenegro",
          "Morocco",
          "Myanmar",
          "N Korea",
          "Nepal",
          "Netherlands",
          "New Zealand",
          "Norway",
          "Oman",
          "Pakistan",
          "Palestine",
          "Panama",
          "Peru",
          "Philippines",
          "Poland",
          "Portugal",
          "Qatar",
          "Romania",
          "Russia",
          "S Africa",
          "S Korea",
          "San Marino",
          "Saudi Arabia",
          "Serbia",
          "Singapore",
          "Slovakia",
          "Slovenia",
          "Spain",
          "Sri Lanka",
          "Sweden",
          "Switzerland",
          "Taiwan",
          "Tanzania",
          "Thailand",
          "Tunisia",
          "Turkey",
          "Turkmenistan",
          "UAE",
          "UK",
          "USA",
          "USSR",
          "Ukraine",
          "Uruguay",
          "Uzbekistan",
          "Venezuela",
          "Vietnam",
          "W Germany",
          "Yugoslavia",
          "Zambia"
         ],
         "legendgroup": "",
         "locationmode": "country names",
         "locations": [
          "Albania",
          "Algeria",
          "Andorra",
          "Argentina",
          "Armenia",
          "Australia",
          "Austria",
          "Azerbaijan",
          "Bahrain",
          "Bangladesh",
          "Belarus",
          "Belgium",
          "Bhutan",
          "Bolivia",
          "Bosnia-Herzegovina",
          "Brazil",
          "Bulgaria",
          "Canada",
          "Chile",
          "China",
          "Colombia",
          "Costa Rica",
          "Croatia",
          "Cyprus",
          "Czech Republic",
          "Czechoslovakia",
          "Denmark",
          "Dominican Republic",
          "Ecuador",
          "Egypt",
          "Estonia",
          "Finland",
          "France",
          "Georgia",
          "Germany",
          "Greece",
          "Guatemala",
          "Hong Kong",
          "Hungary",
          "Iceland",
          "India",
          "India?",
          "Indonesia",
          "Iran",
          "Ireland",
          "Israel",
          "Italy",
          "Jamaica",
          "Japan",
          "Jordan",
          "Kazakhstan",
          "Kenya",
          "Kuwait",
          "Kyrgyzstan",
          "Latvia",
          "Lebanon",
          "Liechtenstein",
          "Lithuania",
          "Luxembourg",
          "Macedonia",
          "Malaysia",
          "Malta",
          "Mauritius",
          "Mexico",
          "Moldova",
          "Mongolia",
          "Montenegro",
          "Morocco",
          "Myanmar",
          "N Korea",
          "Nepal",
          "Netherlands",
          "New Zealand",
          "Norway",
          "Oman",
          "Pakistan",
          "Palestine",
          "Panama",
          "Peru",
          "Philippines",
          "Poland",
          "Portugal",
          "Qatar",
          "Romania",
          "Russia",
          "S Africa",
          "S Korea",
          "San Marino",
          "Saudi Arabia",
          "Serbia",
          "Singapore",
          "Slovakia",
          "Slovenia",
          "Spain",
          "Sri Lanka",
          "Sweden",
          "Switzerland",
          "Taiwan",
          "Tanzania",
          "Thailand",
          "Tunisia",
          "Turkey",
          "Turkmenistan",
          "UAE",
          "UK",
          "USA",
          "USSR",
          "Ukraine",
          "Uruguay",
          "Uzbekistan",
          "Venezuela",
          "Vietnam",
          "W Germany",
          "Yugoslavia",
          "Zambia"
         ],
         "marker": {
          "color": "red",
          "size": [
           6,
           2,
           26,
           210,
           3,
           1247,
           1932,
           5,
           2,
           20,
           36,
           402,
           2,
           7,
           19,
           149,
           210,
           1049,
           159,
           1499,
           88,
           4,
           99,
           2,
           524,
           355,
           191,
           3,
           93,
           2,
           38,
           170,
           4213,
           85,
           2308,
           139,
           12,
           17,
           138,
           39,
           1501,
           7,
           82,
           308,
           205,
           47,
           2612,
           1,
           6039,
           6,
           142,
           6,
           3,
           11,
           55,
           6,
           7,
           49,
           24,
           11,
           129,
           14,
           5,
           248,
           1,
           24,
           10,
           3,
           5,
           1,
           12003,
           644,
           763,
           468,
           4,
           28,
           2,
           2,
           20,
           35,
           1269,
           63,
           1,
           128,
           1129,
           159,
           2743,
           5,
           3,
           68,
           104,
           199,
           503,
           3088,
           2,
           318,
           2280,
           100,
           1,
           28,
           1,
           49,
           1,
           2,
           4741,
           5801,
           271,
           290,
           2,
           35,
           44,
           5,
           785,
           492,
           2
          ],
          "sizemode": "area",
          "sizeref": 13.336666666666666
         },
         "name": "",
         "showlegend": false,
         "type": "scattergeo"
        }
       ],
       "layout": {
        "font": {
         "size": 13
        },
        "geo": {
         "center": {},
         "domain": {
          "x": [
           0,
           1
          ],
          "y": [
           0,
           1
          ]
         },
         "projection": {
          "type": "eckert4"
         }
        },
        "legend": {
         "itemsizing": "constant",
         "tracegroupgap": 0
        },
        "margin": {
         "b": 10,
         "l": 0,
         "r": 0,
         "t": 30
        },
        "template": {
         "data": {
          "bar": [
           {
            "error_x": {
             "color": "#2a3f5f"
            },
            "error_y": {
             "color": "#2a3f5f"
            },
            "marker": {
             "line": {
              "color": "#E5ECF6",
              "width": 0.5
             }
            },
            "type": "bar"
           }
          ],
          "barpolar": [
           {
            "marker": {
             "line": {
              "color": "#E5ECF6",
              "width": 0.5
             }
            },
            "type": "barpolar"
           }
          ],
          "carpet": [
           {
            "aaxis": {
             "endlinecolor": "#2a3f5f",
             "gridcolor": "white",
             "linecolor": "white",
             "minorgridcolor": "white",
             "startlinecolor": "#2a3f5f"
            },
            "baxis": {
             "endlinecolor": "#2a3f5f",
             "gridcolor": "white",
             "linecolor": "white",
             "minorgridcolor": "white",
             "startlinecolor": "#2a3f5f"
            },
            "type": "carpet"
           }
          ],
          "choropleth": [
           {
            "colorbar": {
             "outlinewidth": 0,
             "ticks": ""
            },
            "type": "choropleth"
           }
          ],
          "contour": [
           {
            "colorbar": {
             "outlinewidth": 0,
             "ticks": ""
            },
            "colorscale": [
             [
              0,
              "#0d0887"
             ],
             [
              0.1111111111111111,
              "#46039f"
             ],
             [
              0.2222222222222222,
              "#7201a8"
             ],
             [
              0.3333333333333333,
              "#9c179e"
             ],
             [
              0.4444444444444444,
              "#bd3786"
             ],
             [
              0.5555555555555556,
              "#d8576b"
             ],
             [
              0.6666666666666666,
              "#ed7953"
             ],
             [
              0.7777777777777778,
              "#fb9f3a"
             ],
             [
              0.8888888888888888,
              "#fdca26"
             ],
             [
              1,
              "#f0f921"
             ]
            ],
            "type": "contour"
           }
          ],
          "contourcarpet": [
           {
            "colorbar": {
             "outlinewidth": 0,
             "ticks": ""
            },
            "type": "contourcarpet"
           }
          ],
          "heatmap": [
           {
            "colorbar": {
             "outlinewidth": 0,
             "ticks": ""
            },
            "colorscale": [
             [
              0,
              "#0d0887"
             ],
             [
              0.1111111111111111,
              "#46039f"
             ],
             [
              0.2222222222222222,
              "#7201a8"
             ],
             [
              0.3333333333333333,
              "#9c179e"
             ],
             [
              0.4444444444444444,
              "#bd3786"
             ],
             [
              0.5555555555555556,
              "#d8576b"
             ],
             [
              0.6666666666666666,
              "#ed7953"
             ],
             [
              0.7777777777777778,
              "#fb9f3a"
             ],
             [
              0.8888888888888888,
              "#fdca26"
             ],
             [
              1,
              "#f0f921"
             ]
            ],
            "type": "heatmap"
           }
          ],
          "heatmapgl": [
           {
            "colorbar": {
             "outlinewidth": 0,
             "ticks": ""
            },
            "colorscale": [
             [
              0,
              "#0d0887"
             ],
             [
              0.1111111111111111,
              "#46039f"
             ],
             [
              0.2222222222222222,
              "#7201a8"
             ],
             [
              0.3333333333333333,
              "#9c179e"
             ],
             [
              0.4444444444444444,
              "#bd3786"
             ],
             [
              0.5555555555555556,
              "#d8576b"
             ],
             [
              0.6666666666666666,
              "#ed7953"
             ],
             [
              0.7777777777777778,
              "#fb9f3a"
             ],
             [
              0.8888888888888888,
              "#fdca26"
             ],
             [
              1,
              "#f0f921"
             ]
            ],
            "type": "heatmapgl"
           }
          ],
          "histogram": [
           {
            "marker": {
             "colorbar": {
              "outlinewidth": 0,
              "ticks": ""
             }
            },
            "type": "histogram"
           }
          ],
          "histogram2d": [
           {
            "colorbar": {
             "outlinewidth": 0,
             "ticks": ""
            },
            "colorscale": [
             [
              0,
              "#0d0887"
             ],
             [
              0.1111111111111111,
              "#46039f"
             ],
             [
              0.2222222222222222,
              "#7201a8"
             ],
             [
              0.3333333333333333,
              "#9c179e"
             ],
             [
              0.4444444444444444,
              "#bd3786"
             ],
             [
              0.5555555555555556,
              "#d8576b"
             ],
             [
              0.6666666666666666,
              "#ed7953"
             ],
             [
              0.7777777777777778,
              "#fb9f3a"
             ],
             [
              0.8888888888888888,
              "#fdca26"
             ],
             [
              1,
              "#f0f921"
             ]
            ],
            "type": "histogram2d"
           }
          ],
          "histogram2dcontour": [
           {
            "colorbar": {
             "outlinewidth": 0,
             "ticks": ""
            },
            "colorscale": [
             [
              0,
              "#0d0887"
             ],
             [
              0.1111111111111111,
              "#46039f"
             ],
             [
              0.2222222222222222,
              "#7201a8"
             ],
             [
              0.3333333333333333,
              "#9c179e"
             ],
             [
              0.4444444444444444,
              "#bd3786"
             ],
             [
              0.5555555555555556,
              "#d8576b"
             ],
             [
              0.6666666666666666,
              "#ed7953"
             ],
             [
              0.7777777777777778,
              "#fb9f3a"
             ],
             [
              0.8888888888888888,
              "#fdca26"
             ],
             [
              1,
              "#f0f921"
             ]
            ],
            "type": "histogram2dcontour"
           }
          ],
          "mesh3d": [
           {
            "colorbar": {
             "outlinewidth": 0,
             "ticks": ""
            },
            "type": "mesh3d"
           }
          ],
          "parcoords": [
           {
            "line": {
             "colorbar": {
              "outlinewidth": 0,
              "ticks": ""
             }
            },
            "type": "parcoords"
           }
          ],
          "pie": [
           {
            "automargin": true,
            "type": "pie"
           }
          ],
          "scatter": [
           {
            "marker": {
             "colorbar": {
              "outlinewidth": 0,
              "ticks": ""
             }
            },
            "type": "scatter"
           }
          ],
          "scatter3d": [
           {
            "line": {
             "colorbar": {
              "outlinewidth": 0,
              "ticks": ""
             }
            },
            "marker": {
             "colorbar": {
              "outlinewidth": 0,
              "ticks": ""
             }
            },
            "type": "scatter3d"
           }
          ],
          "scattercarpet": [
           {
            "marker": {
             "colorbar": {
              "outlinewidth": 0,
              "ticks": ""
             }
            },
            "type": "scattercarpet"
           }
          ],
          "scattergeo": [
           {
            "marker": {
             "colorbar": {
              "outlinewidth": 0,
              "ticks": ""
             }
            },
            "type": "scattergeo"
           }
          ],
          "scattergl": [
           {
            "marker": {
             "colorbar": {
              "outlinewidth": 0,
              "ticks": ""
             }
            },
            "type": "scattergl"
           }
          ],
          "scattermapbox": [
           {
            "marker": {
             "colorbar": {
              "outlinewidth": 0,
              "ticks": ""
             }
            },
            "type": "scattermapbox"
           }
          ],
          "scatterpolar": [
           {
            "marker": {
             "colorbar": {
              "outlinewidth": 0,
              "ticks": ""
             }
            },
            "type": "scatterpolar"
           }
          ],
          "scatterpolargl": [
           {
            "marker": {
             "colorbar": {
              "outlinewidth": 0,
              "ticks": ""
             }
            },
            "type": "scatterpolargl"
           }
          ],
          "scatterternary": [
           {
            "marker": {
             "colorbar": {
              "outlinewidth": 0,
              "ticks": ""
             }
            },
            "type": "scatterternary"
           }
          ],
          "surface": [
           {
            "colorbar": {
             "outlinewidth": 0,
             "ticks": ""
            },
            "colorscale": [
             [
              0,
              "#0d0887"
             ],
             [
              0.1111111111111111,
              "#46039f"
             ],
             [
              0.2222222222222222,
              "#7201a8"
             ],
             [
              0.3333333333333333,
              "#9c179e"
             ],
             [
              0.4444444444444444,
              "#bd3786"
             ],
             [
              0.5555555555555556,
              "#d8576b"
             ],
             [
              0.6666666666666666,
              "#ed7953"
             ],
             [
              0.7777777777777778,
              "#fb9f3a"
             ],
             [
              0.8888888888888888,
              "#fdca26"
             ],
             [
              1,
              "#f0f921"
             ]
            ],
            "type": "surface"
           }
          ],
          "table": [
           {
            "cells": {
             "fill": {
              "color": "#EBF0F8"
             },
             "line": {
              "color": "white"
             }
            },
            "header": {
             "fill": {
              "color": "#C8D4E3"
             },
             "line": {
              "color": "white"
             }
            },
            "type": "table"
           }
          ]
         },
         "layout": {
          "annotationdefaults": {
           "arrowcolor": "#2a3f5f",
           "arrowhead": 0,
           "arrowwidth": 1
          },
          "coloraxis": {
           "colorbar": {
            "outlinewidth": 0,
            "ticks": ""
           }
          },
          "colorscale": {
           "diverging": [
            [
             0,
             "#8e0152"
            ],
            [
             0.1,
             "#c51b7d"
            ],
            [
             0.2,
             "#de77ae"
            ],
            [
             0.3,
             "#f1b6da"
            ],
            [
             0.4,
             "#fde0ef"
            ],
            [
             0.5,
             "#f7f7f7"
            ],
            [
             0.6,
             "#e6f5d0"
            ],
            [
             0.7,
             "#b8e186"
            ],
            [
             0.8,
             "#7fbc41"
            ],
            [
             0.9,
             "#4d9221"
            ],
            [
             1,
             "#276419"
            ]
           ],
           "sequential": [
            [
             0,
             "#0d0887"
            ],
            [
             0.1111111111111111,
             "#46039f"
            ],
            [
             0.2222222222222222,
             "#7201a8"
            ],
            [
             0.3333333333333333,
             "#9c179e"
            ],
            [
             0.4444444444444444,
             "#bd3786"
            ],
            [
             0.5555555555555556,
             "#d8576b"
            ],
            [
             0.6666666666666666,
             "#ed7953"
            ],
            [
             0.7777777777777778,
             "#fb9f3a"
            ],
            [
             0.8888888888888888,
             "#fdca26"
            ],
            [
             1,
             "#f0f921"
            ]
           ],
           "sequentialminus": [
            [
             0,
             "#0d0887"
            ],
            [
             0.1111111111111111,
             "#46039f"
            ],
            [
             0.2222222222222222,
             "#7201a8"
            ],
            [
             0.3333333333333333,
             "#9c179e"
            ],
            [
             0.4444444444444444,
             "#bd3786"
            ],
            [
             0.5555555555555556,
             "#d8576b"
            ],
            [
             0.6666666666666666,
             "#ed7953"
            ],
            [
             0.7777777777777778,
             "#fb9f3a"
            ],
            [
             0.8888888888888888,
             "#fdca26"
            ],
            [
             1,
             "#f0f921"
            ]
           ]
          },
          "colorway": [
           "#636efa",
           "#EF553B",
           "#00cc96",
           "#ab63fa",
           "#FFA15A",
           "#19d3f3",
           "#FF6692",
           "#B6E880",
           "#FF97FF",
           "#FECB52"
          ],
          "font": {
           "color": "#2a3f5f"
          },
          "geo": {
           "bgcolor": "white",
           "lakecolor": "white",
           "landcolor": "#E5ECF6",
           "showlakes": true,
           "showland": true,
           "subunitcolor": "white"
          },
          "hoverlabel": {
           "align": "left"
          },
          "hovermode": "closest",
          "mapbox": {
           "style": "light"
          },
          "paper_bgcolor": "white",
          "plot_bgcolor": "#E5ECF6",
          "polar": {
           "angularaxis": {
            "gridcolor": "white",
            "linecolor": "white",
            "ticks": ""
           },
           "bgcolor": "#E5ECF6",
           "radialaxis": {
            "gridcolor": "white",
            "linecolor": "white",
            "ticks": ""
           }
          },
          "scene": {
           "xaxis": {
            "backgroundcolor": "#E5ECF6",
            "gridcolor": "white",
            "gridwidth": 2,
            "linecolor": "white",
            "showbackground": true,
            "ticks": "",
            "zerolinecolor": "white"
           },
           "yaxis": {
            "backgroundcolor": "#E5ECF6",
            "gridcolor": "white",
            "gridwidth": 2,
            "linecolor": "white",
            "showbackground": true,
            "ticks": "",
            "zerolinecolor": "white"
           },
           "zaxis": {
            "backgroundcolor": "#E5ECF6",
            "gridcolor": "white",
            "gridwidth": 2,
            "linecolor": "white",
            "showbackground": true,
            "ticks": "",
            "zerolinecolor": "white"
           }
          },
          "shapedefaults": {
           "line": {
            "color": "#2a3f5f"
           }
          },
          "ternary": {
           "aaxis": {
            "gridcolor": "white",
            "linecolor": "white",
            "ticks": ""
           },
           "baxis": {
            "gridcolor": "white",
            "linecolor": "white",
            "ticks": ""
           },
           "bgcolor": "#E5ECF6",
           "caxis": {
            "gridcolor": "white",
            "linecolor": "white",
            "ticks": ""
           }
          },
          "title": {
           "x": 0.05
          },
          "xaxis": {
           "automargin": true,
           "gridcolor": "white",
           "linecolor": "white",
           "ticks": "",
           "title": {
            "standoff": 15
           },
           "zerolinecolor": "white",
           "zerolinewidth": 2
          },
          "yaxis": {
           "automargin": true,
           "gridcolor": "white",
           "linecolor": "white",
           "ticks": "",
           "title": {
            "standoff": 15
           },
           "zerolinecolor": "white",
           "zerolinewidth": 2
          }
         }
        },
        "title": {
         "text": "Climber Nationality",
         "x": 0.5,
         "xanchor": "center",
         "y": 0.98,
         "yanchor": "top"
        }
       }
      },
      "text/html": [
       "<div>\n",
       "        \n",
       "        \n",
       "            <div id=\"96c97a59-c7b1-4a6d-a22c-9c40a6d3af9f\" class=\"plotly-graph-div\" style=\"height:525px; width:100%;\"></div>\n",
       "            <script type=\"text/javascript\">\n",
       "                require([\"plotly\"], function(Plotly) {\n",
       "                    window.PLOTLYENV=window.PLOTLYENV || {};\n",
       "                    \n",
       "                if (document.getElementById(\"96c97a59-c7b1-4a6d-a22c-9c40a6d3af9f\")) {\n",
       "                    Plotly.newPlot(\n",
       "                        '96c97a59-c7b1-4a6d-a22c-9c40a6d3af9f',\n",
       "                        [{\"geo\": \"geo\", \"hovertemplate\": \"<b>%{hovertext}</b><br><br>count=%{marker.size}<br>country=%{location}<extra></extra>\", \"hovertext\": [\"Albania\", \"Algeria\", \"Andorra\", \"Argentina\", \"Armenia\", \"Australia\", \"Austria\", \"Azerbaijan\", \"Bahrain\", \"Bangladesh\", \"Belarus\", \"Belgium\", \"Bhutan\", \"Bolivia\", \"Bosnia-Herzegovina\", \"Brazil\", \"Bulgaria\", \"Canada\", \"Chile\", \"China\", \"Colombia\", \"Costa Rica\", \"Croatia\", \"Cyprus\", \"Czech Republic\", \"Czechoslovakia\", \"Denmark\", \"Dominican Republic\", \"Ecuador\", \"Egypt\", \"Estonia\", \"Finland\", \"France\", \"Georgia\", \"Germany\", \"Greece\", \"Guatemala\", \"Hong Kong\", \"Hungary\", \"Iceland\", \"India\", \"India?\", \"Indonesia\", \"Iran\", \"Ireland\", \"Israel\", \"Italy\", \"Jamaica\", \"Japan\", \"Jordan\", \"Kazakhstan\", \"Kenya\", \"Kuwait\", \"Kyrgyzstan\", \"Latvia\", \"Lebanon\", \"Liechtenstein\", \"Lithuania\", \"Luxembourg\", \"Macedonia\", \"Malaysia\", \"Malta\", \"Mauritius\", \"Mexico\", \"Moldova\", \"Mongolia\", \"Montenegro\", \"Morocco\", \"Myanmar\", \"N Korea\", \"Nepal\", \"Netherlands\", \"New Zealand\", \"Norway\", \"Oman\", \"Pakistan\", \"Palestine\", \"Panama\", \"Peru\", \"Philippines\", \"Poland\", \"Portugal\", \"Qatar\", \"Romania\", \"Russia\", \"S Africa\", \"S Korea\", \"San Marino\", \"Saudi Arabia\", \"Serbia\", \"Singapore\", \"Slovakia\", \"Slovenia\", \"Spain\", \"Sri Lanka\", \"Sweden\", \"Switzerland\", \"Taiwan\", \"Tanzania\", \"Thailand\", \"Tunisia\", \"Turkey\", \"Turkmenistan\", \"UAE\", \"UK\", \"USA\", \"USSR\", \"Ukraine\", \"Uruguay\", \"Uzbekistan\", \"Venezuela\", \"Vietnam\", \"W Germany\", \"Yugoslavia\", \"Zambia\"], \"legendgroup\": \"\", \"locationmode\": \"country names\", \"locations\": [\"Albania\", \"Algeria\", \"Andorra\", \"Argentina\", \"Armenia\", \"Australia\", \"Austria\", \"Azerbaijan\", \"Bahrain\", \"Bangladesh\", \"Belarus\", \"Belgium\", \"Bhutan\", \"Bolivia\", \"Bosnia-Herzegovina\", \"Brazil\", \"Bulgaria\", \"Canada\", \"Chile\", \"China\", \"Colombia\", \"Costa Rica\", \"Croatia\", \"Cyprus\", \"Czech Republic\", \"Czechoslovakia\", \"Denmark\", \"Dominican Republic\", \"Ecuador\", \"Egypt\", \"Estonia\", \"Finland\", \"France\", \"Georgia\", \"Germany\", \"Greece\", \"Guatemala\", \"Hong Kong\", \"Hungary\", \"Iceland\", \"India\", \"India?\", \"Indonesia\", \"Iran\", \"Ireland\", \"Israel\", \"Italy\", \"Jamaica\", \"Japan\", \"Jordan\", \"Kazakhstan\", \"Kenya\", \"Kuwait\", \"Kyrgyzstan\", \"Latvia\", \"Lebanon\", \"Liechtenstein\", \"Lithuania\", \"Luxembourg\", \"Macedonia\", \"Malaysia\", \"Malta\", \"Mauritius\", \"Mexico\", \"Moldova\", \"Mongolia\", \"Montenegro\", \"Morocco\", \"Myanmar\", \"N Korea\", \"Nepal\", \"Netherlands\", \"New Zealand\", \"Norway\", \"Oman\", \"Pakistan\", \"Palestine\", \"Panama\", \"Peru\", \"Philippines\", \"Poland\", \"Portugal\", \"Qatar\", \"Romania\", \"Russia\", \"S Africa\", \"S Korea\", \"San Marino\", \"Saudi Arabia\", \"Serbia\", \"Singapore\", \"Slovakia\", \"Slovenia\", \"Spain\", \"Sri Lanka\", \"Sweden\", \"Switzerland\", \"Taiwan\", \"Tanzania\", \"Thailand\", \"Tunisia\", \"Turkey\", \"Turkmenistan\", \"UAE\", \"UK\", \"USA\", \"USSR\", \"Ukraine\", \"Uruguay\", \"Uzbekistan\", \"Venezuela\", \"Vietnam\", \"W Germany\", \"Yugoslavia\", \"Zambia\"], \"marker\": {\"color\": \"red\", \"size\": [6, 2, 26, 210, 3, 1247, 1932, 5, 2, 20, 36, 402, 2, 7, 19, 149, 210, 1049, 159, 1499, 88, 4, 99, 2, 524, 355, 191, 3, 93, 2, 38, 170, 4213, 85, 2308, 139, 12, 17, 138, 39, 1501, 7, 82, 308, 205, 47, 2612, 1, 6039, 6, 142, 6, 3, 11, 55, 6, 7, 49, 24, 11, 129, 14, 5, 248, 1, 24, 10, 3, 5, 1, 12003, 644, 763, 468, 4, 28, 2, 2, 20, 35, 1269, 63, 1, 128, 1129, 159, 2743, 5, 3, 68, 104, 199, 503, 3088, 2, 318, 2280, 100, 1, 28, 1, 49, 1, 2, 4741, 5801, 271, 290, 2, 35, 44, 5, 785, 492, 2], \"sizemode\": \"area\", \"sizeref\": 13.336666666666666}, \"name\": \"\", \"showlegend\": false, \"type\": \"scattergeo\"}],\n",
       "                        {\"font\": {\"size\": 13}, \"geo\": {\"center\": {}, \"domain\": {\"x\": [0.0, 1.0], \"y\": [0.0, 1.0]}, \"projection\": {\"type\": \"eckert4\"}}, \"legend\": {\"itemsizing\": \"constant\", \"tracegroupgap\": 0}, \"margin\": {\"b\": 10, \"l\": 0, \"r\": 0, \"t\": 30}, \"template\": {\"data\": {\"bar\": [{\"error_x\": {\"color\": \"#2a3f5f\"}, \"error_y\": {\"color\": \"#2a3f5f\"}, \"marker\": {\"line\": {\"color\": \"#E5ECF6\", \"width\": 0.5}}, \"type\": \"bar\"}], \"barpolar\": [{\"marker\": {\"line\": {\"color\": \"#E5ECF6\", \"width\": 0.5}}, \"type\": \"barpolar\"}], \"carpet\": [{\"aaxis\": {\"endlinecolor\": \"#2a3f5f\", \"gridcolor\": \"white\", \"linecolor\": \"white\", \"minorgridcolor\": \"white\", \"startlinecolor\": \"#2a3f5f\"}, \"baxis\": {\"endlinecolor\": \"#2a3f5f\", \"gridcolor\": \"white\", \"linecolor\": \"white\", \"minorgridcolor\": \"white\", \"startlinecolor\": \"#2a3f5f\"}, \"type\": \"carpet\"}], \"choropleth\": [{\"colorbar\": {\"outlinewidth\": 0, \"ticks\": \"\"}, \"type\": \"choropleth\"}], \"contour\": [{\"colorbar\": {\"outlinewidth\": 0, \"ticks\": \"\"}, \"colorscale\": [[0.0, \"#0d0887\"], [0.1111111111111111, \"#46039f\"], [0.2222222222222222, \"#7201a8\"], [0.3333333333333333, \"#9c179e\"], [0.4444444444444444, \"#bd3786\"], [0.5555555555555556, \"#d8576b\"], [0.6666666666666666, \"#ed7953\"], [0.7777777777777778, \"#fb9f3a\"], [0.8888888888888888, \"#fdca26\"], [1.0, \"#f0f921\"]], \"type\": \"contour\"}], \"contourcarpet\": [{\"colorbar\": {\"outlinewidth\": 0, \"ticks\": \"\"}, \"type\": \"contourcarpet\"}], \"heatmap\": [{\"colorbar\": {\"outlinewidth\": 0, \"ticks\": \"\"}, \"colorscale\": [[0.0, \"#0d0887\"], [0.1111111111111111, \"#46039f\"], [0.2222222222222222, \"#7201a8\"], [0.3333333333333333, \"#9c179e\"], [0.4444444444444444, \"#bd3786\"], [0.5555555555555556, \"#d8576b\"], [0.6666666666666666, \"#ed7953\"], [0.7777777777777778, \"#fb9f3a\"], [0.8888888888888888, \"#fdca26\"], [1.0, \"#f0f921\"]], \"type\": \"heatmap\"}], \"heatmapgl\": [{\"colorbar\": {\"outlinewidth\": 0, \"ticks\": \"\"}, \"colorscale\": [[0.0, \"#0d0887\"], [0.1111111111111111, \"#46039f\"], [0.2222222222222222, \"#7201a8\"], [0.3333333333333333, \"#9c179e\"], [0.4444444444444444, \"#bd3786\"], [0.5555555555555556, \"#d8576b\"], [0.6666666666666666, \"#ed7953\"], [0.7777777777777778, \"#fb9f3a\"], [0.8888888888888888, \"#fdca26\"], [1.0, \"#f0f921\"]], \"type\": \"heatmapgl\"}], \"histogram\": [{\"marker\": {\"colorbar\": {\"outlinewidth\": 0, \"ticks\": \"\"}}, \"type\": \"histogram\"}], \"histogram2d\": [{\"colorbar\": {\"outlinewidth\": 0, \"ticks\": \"\"}, \"colorscale\": [[0.0, \"#0d0887\"], [0.1111111111111111, \"#46039f\"], [0.2222222222222222, \"#7201a8\"], [0.3333333333333333, \"#9c179e\"], [0.4444444444444444, \"#bd3786\"], [0.5555555555555556, \"#d8576b\"], [0.6666666666666666, \"#ed7953\"], [0.7777777777777778, \"#fb9f3a\"], [0.8888888888888888, \"#fdca26\"], [1.0, \"#f0f921\"]], \"type\": \"histogram2d\"}], \"histogram2dcontour\": [{\"colorbar\": {\"outlinewidth\": 0, \"ticks\": \"\"}, \"colorscale\": [[0.0, \"#0d0887\"], [0.1111111111111111, \"#46039f\"], [0.2222222222222222, \"#7201a8\"], [0.3333333333333333, \"#9c179e\"], [0.4444444444444444, \"#bd3786\"], [0.5555555555555556, \"#d8576b\"], [0.6666666666666666, \"#ed7953\"], [0.7777777777777778, \"#fb9f3a\"], [0.8888888888888888, \"#fdca26\"], [1.0, \"#f0f921\"]], \"type\": \"histogram2dcontour\"}], \"mesh3d\": [{\"colorbar\": {\"outlinewidth\": 0, \"ticks\": \"\"}, \"type\": \"mesh3d\"}], \"parcoords\": [{\"line\": {\"colorbar\": {\"outlinewidth\": 0, \"ticks\": \"\"}}, \"type\": \"parcoords\"}], \"pie\": [{\"automargin\": true, \"type\": \"pie\"}], \"scatter\": [{\"marker\": {\"colorbar\": {\"outlinewidth\": 0, \"ticks\": \"\"}}, \"type\": \"scatter\"}], \"scatter3d\": [{\"line\": {\"colorbar\": {\"outlinewidth\": 0, \"ticks\": \"\"}}, \"marker\": {\"colorbar\": {\"outlinewidth\": 0, \"ticks\": \"\"}}, \"type\": \"scatter3d\"}], \"scattercarpet\": [{\"marker\": {\"colorbar\": {\"outlinewidth\": 0, \"ticks\": \"\"}}, \"type\": \"scattercarpet\"}], \"scattergeo\": [{\"marker\": {\"colorbar\": {\"outlinewidth\": 0, \"ticks\": \"\"}}, \"type\": \"scattergeo\"}], \"scattergl\": [{\"marker\": {\"colorbar\": {\"outlinewidth\": 0, \"ticks\": \"\"}}, \"type\": \"scattergl\"}], \"scattermapbox\": [{\"marker\": {\"colorbar\": {\"outlinewidth\": 0, \"ticks\": \"\"}}, \"type\": \"scattermapbox\"}], \"scatterpolar\": [{\"marker\": {\"colorbar\": {\"outlinewidth\": 0, \"ticks\": \"\"}}, \"type\": \"scatterpolar\"}], \"scatterpolargl\": [{\"marker\": {\"colorbar\": {\"outlinewidth\": 0, \"ticks\": \"\"}}, \"type\": \"scatterpolargl\"}], \"scatterternary\": [{\"marker\": {\"colorbar\": {\"outlinewidth\": 0, \"ticks\": \"\"}}, \"type\": \"scatterternary\"}], \"surface\": [{\"colorbar\": {\"outlinewidth\": 0, \"ticks\": \"\"}, \"colorscale\": [[0.0, \"#0d0887\"], [0.1111111111111111, \"#46039f\"], [0.2222222222222222, \"#7201a8\"], [0.3333333333333333, \"#9c179e\"], [0.4444444444444444, \"#bd3786\"], [0.5555555555555556, \"#d8576b\"], [0.6666666666666666, \"#ed7953\"], [0.7777777777777778, \"#fb9f3a\"], [0.8888888888888888, \"#fdca26\"], [1.0, \"#f0f921\"]], \"type\": \"surface\"}], \"table\": [{\"cells\": {\"fill\": {\"color\": \"#EBF0F8\"}, \"line\": {\"color\": \"white\"}}, \"header\": {\"fill\": {\"color\": \"#C8D4E3\"}, \"line\": {\"color\": \"white\"}}, \"type\": \"table\"}]}, \"layout\": {\"annotationdefaults\": {\"arrowcolor\": \"#2a3f5f\", \"arrowhead\": 0, \"arrowwidth\": 1}, \"coloraxis\": {\"colorbar\": {\"outlinewidth\": 0, \"ticks\": \"\"}}, \"colorscale\": {\"diverging\": [[0, \"#8e0152\"], [0.1, \"#c51b7d\"], [0.2, \"#de77ae\"], [0.3, \"#f1b6da\"], [0.4, \"#fde0ef\"], [0.5, \"#f7f7f7\"], [0.6, \"#e6f5d0\"], [0.7, \"#b8e186\"], [0.8, \"#7fbc41\"], [0.9, \"#4d9221\"], [1, \"#276419\"]], \"sequential\": [[0.0, \"#0d0887\"], [0.1111111111111111, \"#46039f\"], [0.2222222222222222, \"#7201a8\"], [0.3333333333333333, \"#9c179e\"], [0.4444444444444444, \"#bd3786\"], [0.5555555555555556, \"#d8576b\"], [0.6666666666666666, \"#ed7953\"], [0.7777777777777778, \"#fb9f3a\"], [0.8888888888888888, \"#fdca26\"], [1.0, \"#f0f921\"]], \"sequentialminus\": [[0.0, \"#0d0887\"], [0.1111111111111111, \"#46039f\"], [0.2222222222222222, \"#7201a8\"], [0.3333333333333333, \"#9c179e\"], [0.4444444444444444, \"#bd3786\"], [0.5555555555555556, \"#d8576b\"], [0.6666666666666666, \"#ed7953\"], [0.7777777777777778, \"#fb9f3a\"], [0.8888888888888888, \"#fdca26\"], [1.0, \"#f0f921\"]]}, \"colorway\": [\"#636efa\", \"#EF553B\", \"#00cc96\", \"#ab63fa\", \"#FFA15A\", \"#19d3f3\", \"#FF6692\", \"#B6E880\", \"#FF97FF\", \"#FECB52\"], \"font\": {\"color\": \"#2a3f5f\"}, \"geo\": {\"bgcolor\": \"white\", \"lakecolor\": \"white\", \"landcolor\": \"#E5ECF6\", \"showlakes\": true, \"showland\": true, \"subunitcolor\": \"white\"}, \"hoverlabel\": {\"align\": \"left\"}, \"hovermode\": \"closest\", \"mapbox\": {\"style\": \"light\"}, \"paper_bgcolor\": \"white\", \"plot_bgcolor\": \"#E5ECF6\", \"polar\": {\"angularaxis\": {\"gridcolor\": \"white\", \"linecolor\": \"white\", \"ticks\": \"\"}, \"bgcolor\": \"#E5ECF6\", \"radialaxis\": {\"gridcolor\": \"white\", \"linecolor\": \"white\", \"ticks\": \"\"}}, \"scene\": {\"xaxis\": {\"backgroundcolor\": \"#E5ECF6\", \"gridcolor\": \"white\", \"gridwidth\": 2, \"linecolor\": \"white\", \"showbackground\": true, \"ticks\": \"\", \"zerolinecolor\": \"white\"}, \"yaxis\": {\"backgroundcolor\": \"#E5ECF6\", \"gridcolor\": \"white\", \"gridwidth\": 2, \"linecolor\": \"white\", \"showbackground\": true, \"ticks\": \"\", \"zerolinecolor\": \"white\"}, \"zaxis\": {\"backgroundcolor\": \"#E5ECF6\", \"gridcolor\": \"white\", \"gridwidth\": 2, \"linecolor\": \"white\", \"showbackground\": true, \"ticks\": \"\", \"zerolinecolor\": \"white\"}}, \"shapedefaults\": {\"line\": {\"color\": \"#2a3f5f\"}}, \"ternary\": {\"aaxis\": {\"gridcolor\": \"white\", \"linecolor\": \"white\", \"ticks\": \"\"}, \"baxis\": {\"gridcolor\": \"white\", \"linecolor\": \"white\", \"ticks\": \"\"}, \"bgcolor\": \"#E5ECF6\", \"caxis\": {\"gridcolor\": \"white\", \"linecolor\": \"white\", \"ticks\": \"\"}}, \"title\": {\"x\": 0.05}, \"xaxis\": {\"automargin\": true, \"gridcolor\": \"white\", \"linecolor\": \"white\", \"ticks\": \"\", \"title\": {\"standoff\": 15}, \"zerolinecolor\": \"white\", \"zerolinewidth\": 2}, \"yaxis\": {\"automargin\": true, \"gridcolor\": \"white\", \"linecolor\": \"white\", \"ticks\": \"\", \"title\": {\"standoff\": 15}, \"zerolinecolor\": \"white\", \"zerolinewidth\": 2}}}, \"title\": {\"text\": \"Climber Nationality\", \"x\": 0.5, \"xanchor\": \"center\", \"y\": 0.98, \"yanchor\": \"top\"}},\n",
       "                        {\"responsive\": true}\n",
       "                    ).then(function(){\n",
       "                            \n",
       "var gd = document.getElementById('96c97a59-c7b1-4a6d-a22c-9c40a6d3af9f');\n",
       "var x = new MutationObserver(function (mutations, observer) {{\n",
       "        var display = window.getComputedStyle(gd).display;\n",
       "        if (!display || display === 'none') {{\n",
       "            console.log([gd, 'removed!']);\n",
       "            Plotly.purge(gd);\n",
       "            observer.disconnect();\n",
       "        }}\n",
       "}});\n",
       "\n",
       "// Listen for the removal of the full notebook cells\n",
       "var notebookContainer = gd.closest('#notebook-container');\n",
       "if (notebookContainer) {{\n",
       "    x.observe(notebookContainer, {childList: true});\n",
       "}}\n",
       "\n",
       "// Listen for the clearing of the current output cell\n",
       "var outputEl = gd.closest('.output');\n",
       "if (outputEl) {{\n",
       "    x.observe(outputEl, {childList: true});\n",
       "}}\n",
       "\n",
       "                        })\n",
       "                };\n",
       "                });\n",
       "            </script>\n",
       "        </div>"
      ]
     },
     "metadata": {},
     "output_type": "display_data"
    }
   ],
   "source": [
    "df = mem_df[\"citizen\"]\n",
    "\n",
    "df = df.str.split(\"/\")\n",
    "df = df.apply(lambda l: pd.Series(l)).stack().reset_index(level=1)\n",
    "df.columns = [\"count\", \"country\"]\n",
    "df = df.groupby(\"country\").count()\n",
    "\n",
    "fig = px.scatter_geo(df.reset_index(), locations=\"country\", locationmode=\"country names\",\n",
    "                     hover_name=\"country\", size=\"count\",\n",
    "                     projection=\"eckert4\", size_max=30, \n",
    "                     color_discrete_sequence=[\"red\"])\n",
    "\n",
    "fig.update_layout(\n",
    "    title = {\n",
    "        \"text\": \"Climber Nationality\",\n",
    "        \"y\": 0.98,\n",
    "        \"x\": 0.5,\n",
    "        \"xanchor\": \"center\",\n",
    "        \"yanchor\": \"top\"},\n",
    "    margin = dict(l=0, r=0, t=30, b=10),\n",
    "    font = {\n",
    "        \"size\": FIG.TITLE_FONT_SIZE - 2\n",
    "    })\n",
    "fig.show()"
   ]
  },
  {
   "cell_type": "markdown",
   "metadata": {},
   "source": [
    "#### Top ten countries(1095 -2019)"
   ]
  },
  {
   "cell_type": "code",
   "execution_count": 24,
   "metadata": {},
   "outputs": [],
   "source": [
    "df = mem_df[\"citizen\"]\n",
    "\n",
    "df = df.str.split(\"/\")\n",
    "df = df.apply(lambda l: pd.Series(l)).stack().reset_index(level=1)\n",
    "df.columns = [\"count\", \"country\"]\n",
    "df = df.groupby(\"country\").count()\n",
    "df.sort_values(by=\"count\", ascending=False, inplace=True)"
   ]
  },
  {
   "cell_type": "code",
   "execution_count": 26,
   "metadata": {},
   "outputs": [
    {
     "data": {
      "image/png": "[encoded data removed]",
      "text/plain": [
       "<Figure size 432x432 with 1 Axes>"
      ]
     },
     "metadata": {},
     "output_type": "display_data"
    }
   ],
   "source": [
    "top = df.head(10)\n",
    "\n",
    "labels = top.index.to_list()\n",
    "sizes = top[\"count\"].tolist()\n",
    "\n",
    "colormap = plt.cm.Set3\n",
    "colors = [colormap(i) for i in np.linspace(0, 0.9, len(labels))]\n",
    "\n",
    "fig, ax = plt.subplots(figsize=(6, 6))\n",
    "fig.suptitle(\"Top 10 Countries (1905-2019)\", \n",
    "             fontsize=FIG.TITLE_FONT_SIZE)\n",
    "fig.subplots_adjust(top=FIG.TITLE_LINESPACE)\n",
    "\n",
    "ax.pie(sizes, colors=colors, labels=labels, autopct=lambda p: \"{:,.0f}\".format((p/100) * sum(sizes)),\n",
    "       startangle=90, pctdistance=0.8, wedgeprops=dict(width=1, edgecolor=\"w\"), textprops={\"fontsize\": 14})\n",
    "\n",
    "centre_circle = plt.Circle((0,0), 0.95, fc=\"white\")\n",
    "fig.gca().add_artist(centre_circle)\n",
    "plt.tight_layout()\n",
    "pass"
   ]
  },
  {
   "cell_type": "markdown",
   "metadata": {},
   "source": [
    "#### Top 5 Climbers Occupations between mount Everest vs other eight-thousanders"
   ]
  },
  {
   "cell_type": "code",
   "execution_count": 28,
   "metadata": {},
   "outputs": [
    {
     "data": {
      "text/plain": [
       "Mountain                             \n",
       "Mount Everest            Alpine guide    1229\n",
       "                         Physician        533\n",
       "                         Alpinist         230\n",
       "                         Student          224\n",
       "                         Engineer         199\n",
       "Other Eight-Thousanders  Alpine guide    3899\n",
       "                         Physician       1522\n",
       "                         Engineer        1162\n",
       "                         Student          674\n",
       "                         Alpinist         508\n",
       "Name: occupation, dtype: int64"
      ]
     },
     "execution_count": 28,
     "metadata": {},
     "output_type": "execute_result"
    }
   ],
   "source": [
    "df = mem_df.loc[:,[\"occupation\", \"peakid\"]]\n",
    "df.dropna(inplace=True)\n",
    "\n",
    "df[\"Mountain\"] = \"Mount Everest\"\n",
    "df.loc[df.peakid != \"EVER\", \"Mountain\"] = \"Other Eight-Thousanders\"\n",
    "\n",
    "def get_jobs(df: pd.DataFrame, top: int = 5) -> pd.Series:\n",
    "    return df.occupation.value_counts().sort_values(ascending=False)[0:top]\n",
    "df.groupby(\"Mountain\").apply(get_jobs, 5)"
   ]
  },
  {
   "cell_type": "markdown",
   "metadata": {},
   "source": [
    "#### To 10 occupation of climbers"
   ]
  },
  {
   "cell_type": "code",
   "execution_count": 35,
   "metadata": {},
   "outputs": [
    {
     "data": {
      "image/png": "[encoded data removed]",
      "text/plain": [
       "<Figure size 720x360 with 1 Axes>"
      ]
     },
     "metadata": {},
     "output_type": "display_data"
    }
   ],
   "source": [
    "\n",
    "fig, ax = plt.subplots(figsize=(FIG.W/1.5, FIG.H))\n",
    "fig.suptitle(\"Climber Occupations (1905-2019)\", \n",
    "             fontsize=FIG.TITLE_FONT_SIZE)\n",
    "fig.subplots_adjust(top=FIG.TITLE_LINESPACE)\n",
    "\n",
    "sns.barplot(x=\"Occupation\", y=\"Percentage\", data=df.head(10),\n",
    "            palette=sns.color_palette(\"Set2\"))\n",
    "\n",
    "ax.set_xlabel(\"Occupation\", fontsize=FIG.FONT_SIZE)\n",
    "ax.set_ylabel(\"% of Total Climbers\", fontsize=FIG.FONT_SIZE)\n",
    "ax.set_ylim(0, 7)\n",
    "ax.set_xticklabels(ax.get_xticklabels(), rotation = 90)\n",
    "ax.set_yticklabels([\"0%\", \"1%\", \"2%\", \"3%\", \"4%\", \"5%\", \"6%\", \"7%\"])\n",
    "for i, v in enumerate(df.head(10)[\"Percentage\"].to_list()):\n",
    "    ax.text(i - 0.2, v + 0.1, str(v) + \"%\", color=\"#555555\")"
   ]
  },
  {
   "cell_type": "markdown",
   "metadata": {},
   "source": [
    "#### What percentage are female?"
   ]
  },
  {
   "cell_type": "code",
   "execution_count": 36,
   "metadata": {},
   "outputs": [
    {
     "data": {
      "image/png": "[encoded data removed]",
      "text/plain": [
       "<Waffle size 720x216 with 1 Axes>"
      ]
     },
     "metadata": {},
     "output_type": "display_data"
    }
   ],
   "source": [
    "df = mem_df.loc[(mem_df.calcage > 0), [\"sex\", \"lname\"]]\n",
    "\n",
    "df = df.groupby([\"sex\"]).count()[\"lname\"]\n",
    "df = df / sum(df) * 100\n",
    "df = round(df / sum(df) * 100).astype(\"int\")\n",
    "\n",
    "data = {\"Male\": df.loc[\"M\",], \n",
    "        \"Female\": df.loc[\"F\",]}\n",
    "\n",
    "fig = plt.figure(\n",
    "        FigureClass=Waffle, \n",
    "        rows=5, \n",
    "        values=data, \n",
    "        colors=(\"#2bc4db\", \"#db7a92\"),\n",
    "        legend={\"loc\": \"upper left\", \"bbox_to_anchor\": (1, 1), \n",
    "                \"framealpha\": 0.25, \"handletextpad\": 1},\n",
    "        labels=[\"{0} ({1}%)\".format(k, v) for k, v in data.items()],\n",
    "        icons=[\"male\", \"female\"],\n",
    "        icon_size=24,\n",
    "        font_size=12, \n",
    "        figsize=(10, 3),\n",
    "        icon_legend=True\n",
    "    )\n",
    "\n",
    "fig.suptitle(\"Gender Inequality\")\n",
    "fig.subplots_adjust(top=0.93)\n",
    "\n",
    "pass"
   ]
  },
  {
   "cell_type": "markdown",
   "metadata": {},
   "source": [
    "#### How does the number of female climbers increased over time?"
   ]
  },
  {
   "cell_type": "code",
   "execution_count": 38,
   "metadata": {},
   "outputs": [
    {
     "data": {
      "image/png": "[encoded data removed]",
      "text/plain": [
       "<Figure size 1080x360 with 1 Axes>"
      ]
     },
     "metadata": {},
     "output_type": "display_data"
    }
   ],
   "source": [
    "df = mem_df.loc[(mem_df.calcage > 0) & (mem_df.sex == \"F\"), [\"lname\", \"myear\"]]\n",
    "df = df.groupby(\"myear\").count()\n",
    "\n",
    "fig, ax = plt.subplots(figsize=(FIG.W, FIG.H))\n",
    "fig.suptitle(\"Number of Female Climbers (1905-2019)\", \n",
    "             fontsize=FIG.TITLE_FONT_SIZE)\n",
    "fig.subplots_adjust(top=FIG.TITLE_LINESPACE)\n",
    "\n",
    "sns.lineplot(x=df.index, y=\"lname\",\n",
    "             ax=ax, data=df,\n",
    "             markers=True, dashes=False, color=\"#db7a92\")\n",
    "\n",
    "ax.set_xlabel(\"Year\", fontsize=FIG.FONT_SIZE)\n",
    "ax.set_ylabel(\"Number of Female Climbers\", fontsize=FIG.FONT_SIZE)\n",
    "pass"
   ]
  },
  {
   "cell_type": "markdown",
   "metadata": {},
   "source": [
    "#### What is the age distribution by gender?"
   ]
  },
  {
   "cell_type": "code",
   "execution_count": 39,
   "metadata": {},
   "outputs": [
    {
     "data": {
      "image/png": "[encoded data removed]",
      "text/plain": [
       "<Figure size 1080x360 with 1 Axes>"
      ]
     },
     "metadata": {},
     "output_type": "display_data"
    }
   ],
   "source": [
    "df = mem_df.loc[(mem_df.calcage > 0), [\"sex\", \"calcage\", \"peakid\", \"lname\"]]\n",
    "\n",
    "fig, ax = plt.subplots(figsize=(FIG.W, FIG.H))\n",
    "fig.suptitle(\"Age Distribution by Gender (All Eight-Thousanders, 1905-2019)\", \n",
    "             fontsize=FIG.TITLE_FONT_SIZE)\n",
    "fig.subplots_adjust(top=FIG.TITLE_LINESPACE)\n",
    "\n",
    "sns.distplot(df.loc[df.sex==\"M\", \"calcage\"], \n",
    "             norm_hist=True, color=\"#2bc4db\", rug=True, bins=30)\n",
    "sns.distplot(df.loc[df.sex==\"F\", \"calcage\"], \n",
    "             norm_hist=True, color=\"#db7a92\", rug=True, bins=30)\n",
    "\n",
    "ax.set_ylabel(\"Density\", fontsize=FIG.FONT_SIZE)\n",
    "ax.set_xlabel(\"Age\", fontsize=FIG.FONT_SIZE)\n",
    "\n",
    "green_patch = matplotlib.patches.Patch(color=\"#2bc4db\", label=\"Male\")\n",
    "red_patch = matplotlib.patches.Patch(color=\"#db7a92\", label=\"Female\")\n",
    "ax.legend(handles=[green_patch, red_patch], facecolor=\"white\", edgecolor=\"#cccccc\", framealpha=0.5, fancybox=True)\n",
    "\n",
    "pass"
   ]
  },
  {
   "cell_type": "markdown",
   "metadata": {},
   "source": [
    "#### Who is the Oldest and the youngest climbers to successfully ascend?"
   ]
  },
  {
   "cell_type": "code",
   "execution_count": 41,
   "metadata": {},
   "outputs": [
    {
     "name": "stdout",
     "output_type": "stream",
     "text": [
      "\n",
      "Youngest Successful Ascenders:\n"
     ]
    },
    {
     "data": {
      "text/html": [
       "<div>\n",
       "<style scoped>\n",
       "    .dataframe tbody tr th:only-of-type {\n",
       "        vertical-align: middle;\n",
       "    }\n",
       "\n",
       "    .dataframe tbody tr th {\n",
       "        vertical-align: top;\n",
       "    }\n",
       "\n",
       "    .dataframe thead th {\n",
       "        text-align: right;\n",
       "    }\n",
       "</style>\n",
       "<table border=\"1\" class=\"dataframe\">\n",
       "  <thead>\n",
       "    <tr style=\"text-align: right;\">\n",
       "      <th></th>\n",
       "      <th>index</th>\n",
       "      <th>First Name</th>\n",
       "      <th>Last Name</th>\n",
       "      <th>Age</th>\n",
       "      <th>Citizen</th>\n",
       "      <th>Year</th>\n",
       "      <th>Peak</th>\n",
       "    </tr>\n",
       "  </thead>\n",
       "  <tbody>\n",
       "    <tr>\n",
       "      <th>0</th>\n",
       "      <td>48639</td>\n",
       "      <td>Abel</td>\n",
       "      <td>Minelli</td>\n",
       "      <td>13</td>\n",
       "      <td>France</td>\n",
       "      <td>2009</td>\n",
       "      <td>KAGA</td>\n",
       "    </tr>\n",
       "    <tr>\n",
       "      <th>1</th>\n",
       "      <td>54393</td>\n",
       "      <td>Jordan</td>\n",
       "      <td>Romero</td>\n",
       "      <td>13</td>\n",
       "      <td>USA</td>\n",
       "      <td>2010</td>\n",
       "      <td>EVER</td>\n",
       "    </tr>\n",
       "    <tr>\n",
       "      <th>2</th>\n",
       "      <td>62005</td>\n",
       "      <td>Malavath</td>\n",
       "      <td>Poorna</td>\n",
       "      <td>13</td>\n",
       "      <td>India</td>\n",
       "      <td>2014</td>\n",
       "      <td>EVER</td>\n",
       "    </tr>\n",
       "    <tr>\n",
       "      <th>3</th>\n",
       "      <td>33822</td>\n",
       "      <td>Mingkipa</td>\n",
       "      <td>Sherpa</td>\n",
       "      <td>15</td>\n",
       "      <td>Nepal</td>\n",
       "      <td>2003</td>\n",
       "      <td>EVER</td>\n",
       "    </tr>\n",
       "    <tr>\n",
       "      <th>4</th>\n",
       "      <td>8184</td>\n",
       "      <td>Sabine</td>\n",
       "      <td>Madoux</td>\n",
       "      <td>15</td>\n",
       "      <td>France</td>\n",
       "      <td>1990</td>\n",
       "      <td>DHAM</td>\n",
       "    </tr>\n",
       "  </tbody>\n",
       "</table>\n",
       "</div>"
      ],
      "text/plain": [
       "   index First Name Last Name  Age Citizen  Year  Peak\n",
       "0  48639       Abel   Minelli   13  France  2009  KAGA\n",
       "1  54393     Jordan    Romero   13     USA  2010  EVER\n",
       "2  62005   Malavath    Poorna   13   India  2014  EVER\n",
       "3  33822   Mingkipa    Sherpa   15   Nepal  2003  EVER\n",
       "4   8184     Sabine    Madoux   15  France  1990  DHAM"
      ]
     },
     "metadata": {},
     "output_type": "display_data"
    },
    {
     "name": "stdout",
     "output_type": "stream",
     "text": [
      "\n",
      "Oldest Successful Ascenders:\n"
     ]
    },
    {
     "data": {
      "text/html": [
       "<div>\n",
       "<style scoped>\n",
       "    .dataframe tbody tr th:only-of-type {\n",
       "        vertical-align: middle;\n",
       "    }\n",
       "\n",
       "    .dataframe tbody tr th {\n",
       "        vertical-align: top;\n",
       "    }\n",
       "\n",
       "    .dataframe thead th {\n",
       "        text-align: right;\n",
       "    }\n",
       "</style>\n",
       "<table border=\"1\" class=\"dataframe\">\n",
       "  <thead>\n",
       "    <tr style=\"text-align: right;\">\n",
       "      <th></th>\n",
       "      <th>index</th>\n",
       "      <th>First Name</th>\n",
       "      <th>Last Name</th>\n",
       "      <th>Age</th>\n",
       "      <th>Citizen</th>\n",
       "      <th>Year</th>\n",
       "      <th>Peak</th>\n",
       "    </tr>\n",
       "  </thead>\n",
       "  <tbody>\n",
       "    <tr>\n",
       "      <th>0</th>\n",
       "      <td>59267</td>\n",
       "      <td>Yuichiro</td>\n",
       "      <td>Miura</td>\n",
       "      <td>80</td>\n",
       "      <td>Japan</td>\n",
       "      <td>2013</td>\n",
       "      <td>EVER</td>\n",
       "    </tr>\n",
       "    <tr>\n",
       "      <th>1</th>\n",
       "      <td>61035</td>\n",
       "      <td>Takashi</td>\n",
       "      <td>Saito</td>\n",
       "      <td>78</td>\n",
       "      <td>Japan</td>\n",
       "      <td>2013</td>\n",
       "      <td>URMA</td>\n",
       "    </tr>\n",
       "    <tr>\n",
       "      <th>2</th>\n",
       "      <td>64926</td>\n",
       "      <td>Tadaomi</td>\n",
       "      <td>Miwatari</td>\n",
       "      <td>76</td>\n",
       "      <td>Japan</td>\n",
       "      <td>2015</td>\n",
       "      <td>ANN4</td>\n",
       "    </tr>\n",
       "    <tr>\n",
       "      <th>3</th>\n",
       "      <td>45525</td>\n",
       "      <td>Min Bahadur</td>\n",
       "      <td>Sherchan</td>\n",
       "      <td>76</td>\n",
       "      <td>Nepal</td>\n",
       "      <td>2008</td>\n",
       "      <td>EVER</td>\n",
       "    </tr>\n",
       "    <tr>\n",
       "      <th>4</th>\n",
       "      <td>22308</td>\n",
       "      <td>Piero</td>\n",
       "      <td>Ghiglione</td>\n",
       "      <td>75</td>\n",
       "      <td>Italy</td>\n",
       "      <td>1958</td>\n",
       "      <td>IMJA</td>\n",
       "    </tr>\n",
       "  </tbody>\n",
       "</table>\n",
       "</div>"
      ],
      "text/plain": [
       "   index   First Name  Last Name  Age Citizen  Year  Peak\n",
       "0  59267     Yuichiro      Miura   80   Japan  2013  EVER\n",
       "1  61035      Takashi      Saito   78   Japan  2013  URMA\n",
       "2  64926      Tadaomi   Miwatari   76   Japan  2015  ANN4\n",
       "3  45525  Min Bahadur   Sherchan   76   Nepal  2008  EVER\n",
       "4  22308        Piero  Ghiglione   75   Italy  1958  IMJA"
      ]
     },
     "metadata": {},
     "output_type": "display_data"
    }
   ],
   "source": [
    "df = mem_df.loc[(mem_df.calcage > 0) & \n",
    "                       (mem_df.msmtbid == 5), \n",
    "                       [\"fname\", \"lname\", \"calcage\", \"citizen\", \"myear\", \"peakid\"]]\n",
    "\n",
    "df.columns = [\"First Name\", \"Last Name\", \"Age\", \"Citizen\", \"Year\", \"Peak\"]\n",
    "oldest_df = df.sort_values(by=\"Age\", ascending=False).head(5).reset_index()\n",
    "youngest_df = df.sort_values(by=\"Age\", ascending=True).head(5).reset_index()\n",
    "\n",
    "print(\"\\nYoungest Successful Ascenders:\")\n",
    "display(youngest_df)\n",
    "print(\"\\nOldest Successful Ascenders:\")\n",
    "display(oldest_df)"
   ]
  },
  {
   "cell_type": "markdown",
   "metadata": {},
   "source": [
    "### Conclusions"
   ]
  },
  {
   "cell_type": "markdown",
   "metadata": {},
   "source": [
    "Europe has the highest number of eight-thousander climbers given its long history in mountaineering. Most climbers come from developed countries including Japan, Korea, and the US.\n"
   ]
  },
  {
   "cell_type": "markdown",
   "metadata": {},
   "source": [
    "Nepal has the highest climber population because of the Sherpa mountaineers hired by the expedition teams. It is widely believed that most expeditions would otherwise not even be possible without the help of Sherpas."
   ]
  },
  {
   "cell_type": "markdown",
   "metadata": {},
   "source": [
    "Most mountaineers drawn to the eight-thousanders are, in fact, not professional climbers. Physicians predictably top the list because all expeditions require at least one physician to accompany the teams. The high number of alpine guides can also be explained by the experienced guides and Sharpas hired by the expedition teams.\n",
    "The engineers and students that show up as the top occupations for both Mount Everest and other eight-thousanders. Students can be comprehended by the fact that climbing eight-thousanders require the top-notch physical conditions possessed by young people. Yet the appearance of engineers could be attributed spare cash and time."
   ]
  },
  {
   "cell_type": "markdown",
   "metadata": {},
   "source": [
    "Mountaineering has historically been dominated by men: Only 1 out of 10 climbers were female between 1905 and 2019. However, there has been a rapid growth of female climbers since 1980 with identical age distributions between male and female climbers, further demonstrating that climbing ability varies by age, not by gender. In fact, the youngest climber to ascend Mount Everest is a female climber"
   ]
  },
  {
   "cell_type": "markdown",
   "metadata": {},
   "source": [
    "#### Age Is a Problem, Says Who?\n",
    "The average age of climbers to the eight-thousanders has been increasing steadily since 1980. The trend is almost identical between Mount Everest and the other 15 eight-thousanders. Age is definitely not stopping mountaineers from venturing into the death zone. Don't let age stop you!"
   ]
  },
  {
   "cell_type": "code",
   "execution_count": null,
   "metadata": {},
   "outputs": [],
   "source": []
  }
 ],
 "metadata": {
  "kernelspec": {
   "display_name": "Python 3",
   "language": "python",
   "name": "python3"
  },
  "language_info": {
   "codemirror_mode": {
    "name": "ipython",
    "version": 3
   },
   "file_extension": ".py",
   "mimetype": "text/x-python",
   "name": "python",
   "nbconvert_exporter": "python",
   "pygments_lexer": "ipython3",
   "version": "3.7.6"
  }
 },
 "nbformat": 4,
 "nbformat_minor": 2
}
